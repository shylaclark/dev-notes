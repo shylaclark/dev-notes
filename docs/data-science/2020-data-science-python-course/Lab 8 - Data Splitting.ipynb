{
 "cells": [
  {
   "cell_type": "markdown",
   "metadata": {},
   "source": [
    "Need to install: `conda install -c anaconda scikit-learn`"
   ]
  },
  {
   "cell_type": "code",
   "execution_count": 1,
   "metadata": {},
   "outputs": [],
   "source": [
    "import numpy as np\n",
    "import pandas as pd"
   ]
  },
  {
   "cell_type": "code",
   "execution_count": 3,
   "metadata": {},
   "outputs": [
    {
     "name": "stdout",
     "output_type": "stream",
     "text": [
      "[10 17  6 13  4  2  5 14  9  7 16 11  3  0 15 12] [18  1 19  8]\n",
      "[ 2 12 19 16 10  0  3  4 15  8 13  9  5 14  7  6] [11  1 18 17]\n",
      "[11  2  8  6  3 17  4 10 16 18  9  1  0  7 14 19] [15 13 12  5]\n",
      "[ 3 17  7 12 14 16 11 10  9 15  1 19  8  6  5  4] [18  0 13  2]\n"
     ]
    }
   ],
   "source": [
    "from sklearn.model_selection import ShuffleSplit\n",
    "initDS = np.arange(20)\n",
    "splitter = ShuffleSplit(n_splits=4, test_size=0.2, random_state=0)\n",
    "for trainDS, testDS in splitter.split(initDS) :\n",
    "    print(trainDS, testDS)"
   ]
  },
  {
   "cell_type": "code",
   "execution_count": 4,
   "metadata": {},
   "outputs": [
    {
     "name": "stdout",
     "output_type": "stream",
     "text": [
      "[1 3 4] [2 0]\n",
      "[1 4 3] [0 2]\n",
      "[4 0 2] [1 3]\n",
      "[2 4 0] [3 1]\n"
     ]
    }
   ],
   "source": [
    "initDS = np.arange(100).reshape(5,20)\n",
    "splitter = ShuffleSplit(n_splits=4, test_size=0.4, random_state=0)\n",
    "for trainDS, testDS in splitter.split(initDS) :\n",
    "    print(trainDS, testDS)"
   ]
  },
  {
   "cell_type": "code",
   "execution_count": 5,
   "metadata": {},
   "outputs": [
    {
     "data": {
      "text/plain": [
       "array([[ 0,  1,  2,  3,  4,  5,  6,  7,  8,  9, 10, 11, 12, 13, 14, 15,\n",
       "        16, 17, 18, 19],\n",
       "       [20, 21, 22, 23, 24, 25, 26, 27, 28, 29, 30, 31, 32, 33, 34, 35,\n",
       "        36, 37, 38, 39],\n",
       "       [40, 41, 42, 43, 44, 45, 46, 47, 48, 49, 50, 51, 52, 53, 54, 55,\n",
       "        56, 57, 58, 59],\n",
       "       [60, 61, 62, 63, 64, 65, 66, 67, 68, 69, 70, 71, 72, 73, 74, 75,\n",
       "        76, 77, 78, 79],\n",
       "       [80, 81, 82, 83, 84, 85, 86, 87, 88, 89, 90, 91, 92, 93, 94, 95,\n",
       "        96, 97, 98, 99]])"
      ]
     },
     "execution_count": 5,
     "metadata": {},
     "output_type": "execute_result"
    }
   ],
   "source": [
    "initDS"
   ]
  },
  {
   "cell_type": "code",
   "execution_count": 8,
   "metadata": {},
   "outputs": [
    {
     "data": {
      "text/plain": [
       "(     0     1     2    3     4     5     6     7    8     9   ...   48     49  \\\n",
       " 0  0.00  0.64  0.64  0.0  0.32  0.00  0.00  0.00  0.0  0.00  ...  0.0  0.000   \n",
       " 1  0.21  0.28  0.50  0.0  0.14  0.28  0.21  0.07  0.0  0.94  ...  0.0  0.132   \n",
       " \n",
       "     50     51    52     53     54   55    56  57  \n",
       " 0  0.0  0.778  0.00  0.000  3.756   61   278   1  \n",
       " 1  0.0  0.372  0.18  0.048  5.114  101  1028   1  \n",
       " \n",
       " [2 rows x 58 columns],\n",
       "       0    1     2    3     4    5    6    7    8    9   ...   48     49   50  \\\n",
       " 18  0.96  0.0  0.00  0.0  0.32  0.0  0.0  0.0  0.0  0.0  ...  0.0  0.057  0.0   \n",
       " 19  0.00  0.0  0.65  0.0  0.00  0.0  0.0  0.0  0.0  0.0  ...  0.0  0.000  0.0   \n",
       " \n",
       "        51   52   53     54  55  56  57  \n",
       " 18  0.000  0.0  0.0  1.147   5  78   0  \n",
       " 19  0.125  0.0  0.0  1.250   5  40   0  \n",
       " \n",
       " [2 rows x 58 columns])"
      ]
     },
     "execution_count": 8,
     "metadata": {},
     "output_type": "execute_result"
    }
   ],
   "source": [
    "input_file = 'http://bit.ly/36w1jgf'\n",
    "all = pd.read_csv(input_file, header=None, sep=',')\n",
    "all.head(2), all.tail(2)"
   ]
  },
  {
   "cell_type": "code",
   "execution_count": 9,
   "metadata": {},
   "outputs": [
    {
     "data": {
      "text/plain": [
       "20"
      ]
     },
     "execution_count": 9,
     "metadata": {},
     "output_type": "execute_result"
    }
   ],
   "source": [
    "labels = [int(i) for i in (10 * '1' + 10 * '0')]\n",
    "len(labels)"
   ]
  },
  {
   "cell_type": "code",
   "execution_count": 11,
   "metadata": {},
   "outputs": [
    {
     "data": {
      "text/plain": [
       "(      0     1     2    3     4     5     6     7     8     9   ...    48  \\\n",
       " 4   0.00  0.00  0.00  0.0  0.63  0.00  0.31  0.63  0.31  0.63  ...  0.00   \n",
       " 2   0.06  0.00  0.71  0.0  1.23  0.19  0.19  0.12  0.64  0.25  ...  0.01   \n",
       " 5   0.00  0.00  0.00  0.0  1.85  0.00  0.00  1.85  0.00  0.00  ...  0.00   \n",
       " 14  0.00  0.00  1.19  0.0  0.00  0.00  0.00  0.00  0.00  0.00  ...  0.00   \n",
       " 9   0.06  0.12  0.77  0.0  0.19  0.32  0.38  0.00  0.06  0.00  ...  0.04   \n",
       " 7   0.00  0.00  0.00  0.0  1.88  0.00  0.00  1.88  0.00  0.00  ...  0.00   \n",
       " 16  0.00  0.00  0.00  0.0  0.00  0.00  0.00  0.00  0.00  0.00  ...  0.00   \n",
       " 11  0.00  0.00  1.25  0.0  2.50  0.00  0.00  0.00  0.00  0.00  ...  0.00   \n",
       " 3   0.00  0.00  0.00  0.0  0.63  0.00  0.31  0.63  0.31  0.63  ...  0.00   \n",
       " 0   0.00  0.64  0.64  0.0  0.32  0.00  0.00  0.00  0.00  0.00  ...  0.00   \n",
       " 15  0.31  0.00  0.62  0.0  0.00  0.31  0.00  0.00  0.00  0.00  ...  0.00   \n",
       " 12  0.00  0.00  0.00  0.0  0.00  0.00  0.00  0.00  0.00  0.00  ...  0.00   \n",
       " \n",
       "        49   50     51     52    53     54   55    56  57  \n",
       " 4   0.135  0.0  0.135  0.000  0.00  3.537   40   191   1  \n",
       " 2   0.143  0.0  0.276  0.184  0.01  9.821  485  2259   1  \n",
       " 5   0.223  0.0  0.000  0.000  0.00  3.000   15    54   1  \n",
       " 14  0.000  0.0  0.000  0.000  0.00  1.000    1    24   0  \n",
       " 9   0.030  0.0  0.244  0.081  0.00  1.729   43   749   1  \n",
       " 7   0.206  0.0  0.000  0.000  0.00  2.450   11    49   1  \n",
       " 16  0.000  0.0  0.353  0.000  0.00  1.555    4    14   0  \n",
       " 11  0.111  0.0  0.000  0.000  0.00  1.285    4    27   0  \n",
       " 3   0.137  0.0  0.137  0.000  0.00  3.537   40   191   1  \n",
       " 0   0.000  0.0  0.778  0.000  0.00  3.756   61   278   1  \n",
       " 15  0.232  0.0  0.000  0.000  0.00  1.142    3    88   0  \n",
       " 12  0.000  0.0  1.052  0.000  0.00  1.000    1     6   0  \n",
       " \n",
       " [12 rows x 58 columns],\n",
       "       0     1     2    3     4     5     6     7     8     9   ...     48  \\\n",
       " 18  0.96  0.00  0.00  0.0  0.32  0.00  0.00  0.00  0.00  0.00  ...  0.000   \n",
       " 1   0.21  0.28  0.50  0.0  0.14  0.28  0.21  0.07  0.00  0.94  ...  0.000   \n",
       " 19  0.00  0.00  0.65  0.0  0.00  0.00  0.00  0.00  0.00  0.00  ...  0.000   \n",
       " 8   0.15  0.00  0.46  0.0  0.61  0.00  0.30  0.00  0.92  0.76  ...  0.000   \n",
       " 10  0.00  0.00  0.00  0.0  0.00  0.00  0.00  0.00  0.00  0.00  ...  0.000   \n",
       " 17  0.30  0.00  0.30  0.0  0.00  0.00  0.00  0.00  0.00  0.00  ...  0.102   \n",
       " 6   0.00  0.00  0.00  0.0  1.92  0.00  0.00  0.00  0.00  0.64  ...  0.000   \n",
       " 13  0.00  0.00  0.00  0.0  0.00  0.00  0.00  0.00  0.00  0.00  ...  0.000   \n",
       " \n",
       "        49   50     51     52     53     54   55    56  57  \n",
       " 18  0.057  0.0  0.000  0.000  0.000  1.147    5    78   0  \n",
       " 1   0.132  0.0  0.372  0.180  0.048  5.114  101  1028   1  \n",
       " 19  0.000  0.0  0.125  0.000  0.000  1.250    5    40   0  \n",
       " 8   0.271  0.0  0.181  0.203  0.022  9.744  445  1257   1  \n",
       " 10  0.000  0.0  0.000  0.000  0.000  1.000    1     8   0  \n",
       " 17  0.718  0.0  0.000  0.000  0.000  1.404    6   118   0  \n",
       " 6   0.054  0.0  0.164  0.054  0.000  1.671    4   112   1  \n",
       " 13  0.630  0.0  0.000  0.000  0.000  1.727    5    19   0  \n",
       " \n",
       " [8 rows x 58 columns],\n",
       " [1, 1, 1, 0, 1, 1, 0, 0, 1, 1, 0, 0],\n",
       " [0, 1, 0, 1, 0, 0, 1, 0])"
      ]
     },
     "execution_count": 11,
     "metadata": {},
     "output_type": "execute_result"
    }
   ],
   "source": [
    "from sklearn.model_selection import train_test_split\n",
    "data_train, data_test, label_train, label_test = train_test_split(all, labels, test_size=0.4, random_state=0)\n",
    "\n",
    "data_train, data_test, label_train, label_test"
   ]
  }
 ],
 "metadata": {
  "kernelspec": {
   "display_name": "Python 3",
   "language": "python",
   "name": "python3"
  },
  "language_info": {
   "codemirror_mode": {
    "name": "ipython",
    "version": 3
   },
   "file_extension": ".py",
   "mimetype": "text/x-python",
   "name": "python",
   "nbconvert_exporter": "python",
   "pygments_lexer": "ipython3",
   "version": "3.7.4"
  }
 },
 "nbformat": 4,
 "nbformat_minor": 4
}
